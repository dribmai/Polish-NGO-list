{
 "cells": [
  {
   "cell_type": "markdown",
   "id": "dental-return",
   "metadata": {},
   "source": [
    "# Polish portal of non-governmental organizations\n",
    "\n",
    "The aim of the project is to collect information from Polish portal of non-governmental organizations about non-governmental organizations in selected category. The information will come from the website [https://spis.ngo.pl/](https://spis.ngo.pl/). To extract most information I used libraries `requests` and `bs4`, and to decrypt email addresses with use of elements of JavaScript I used `selenium`.\n",
    "\n",
    "## Analyzing the category page\n",
    "\n",
    "I started with analyzing the category page, I searched for an element that contained the entire content of the selected item on the list.\n",
    "Such an element is `<div class=\"pv3 bb b--light-gray\">`. The parent of the above-mentioned element, so the element representing the entire list, is the `<div>` tag one level higher: `<div class=\"relative mb5\">`.\n",
    "\n",
    "## Data extraction from the category page\n",
    "\n",
    "Then I wrote a script that can extract a list of links to the websites of all foundations in this category from the foundation category page.\n",
    "\n",
    "Using the `requests` library, I retrieve the content of the category page, and then using `bs4` find the HTML document element that contains all the foundations:"
   ]
  },
  {
   "cell_type": "code",
   "execution_count": 1,
   "id": "ad2fc058",
   "metadata": {},
   "outputs": [
    {
     "data": {
      "application/vnd.jupyter.widget-view+json": {
       "model_id": "50128691256f4ccf96d6248e54cda026",
       "version_major": 2,
       "version_minor": 0
      },
      "text/plain": [
       "Dropdown(description='Category:', layout=Layout(width='max-content'), options=(('Sport, turystyka, rekreacja, …"
      ]
     },
     "metadata": {},
     "output_type": "display_data"
    }
   ],
   "source": [
    "from ipywidgets import widgets\n",
    "\n",
    "input_dropdown = widgets.Dropdown(\n",
    "    options=[('Sport, turystyka, rekreacja, hobby', 2753), ('Kultura, sztuka, tradycja', 2759), ('Edukacja, wychowanie', 2771), ('Ochrona zdrowia', 2777), ('Usługi socjalne, pomoc społeczna', 2783), ('Ratownictwo, bezpieczeństwo', 2791), ('Rozwój lokalny', 2796), ('Ekologia', 2803), ('Prawa człowieka, demokracja, prawo', 2810), ('Wsparcie dla organizacji pozarządowych', 2816), ('Rynek pracy, aktywizacja zawodowa', 2838), ('Działalność międzynarodowa', 2844), ('Nauka, technika', 2850), ('Sprawy zawodowe, pracownicze, branżowe', 2853), ('Religia', 2854), ('Inne', 2855), ('Pomoc dla Ukrainy', 4291)], \n",
    "    value=2753,\n",
    "    description='Category:',\n",
    "    layout={'width': 'max-content'})\n",
    "input_dropdown"
   ]
  },
  {
   "cell_type": "code",
   "execution_count": 2,
   "id": "regular-colony",
   "metadata": {},
   "outputs": [],
   "source": [
    "import requests\n",
    "from bs4 import BeautifulSoup\n",
    "\n",
    "URL = f'https://spis.ngo.pl/?cat[2384]={input_dropdown.value}'\n",
    "\n",
    "response = requests.get(URL)\n",
    "category = BeautifulSoup(response.text, 'html.parser')\n",
    "\n",
    "list_of_organizations = category.select_one('div.relative.mb5')"
   ]
  },
  {
   "cell_type": "markdown",
   "id": "narrow-attraction",
   "metadata": {},
   "source": [
    "Next, I look for `<div>` elements representing each organization. We do not look for them in the category, but only within `list_of_organizations`:"
   ]
  },
  {
   "cell_type": "code",
   "execution_count": 3,
   "id": "smoking-necklace",
   "metadata": {},
   "outputs": [],
   "source": [
    "organizations = list_of_organizations.select('li.pv3.bb')"
   ]
  },
  {
   "cell_type": "markdown",
   "id": "optimum-purple",
   "metadata": {},
   "source": [
    "The next step is to create a list of URLs of the organizations that are on this list:"
   ]
  },
  {
   "cell_type": "code",
   "execution_count": 4,
   "id": "acoustic-google",
   "metadata": {},
   "outputs": [],
   "source": [
    "urls = []\n",
    "\n",
    "for organization in organizations:\n",
    "    urls.append(\n",
    "        organization.select_one('a')['href']\n",
    "    )"
   ]
  },
  {
   "cell_type": "markdown",
   "id": "approved-transport",
   "metadata": {},
   "source": [
    "## Analyzing the organization page\n",
    "\n",
    "The next website that need to be analyze is the website of any foundation. All the data we are looking for is collected in a table. Most of them are provided openly, only the email is hidden - it waits until we click **Show** (**Pokaż**).\n",
    "\n",
    "![Devtools](images/ngo-4.png)\n",
    "\n",
    "The elements representing the \"label-value\" are `<div class=\"f7-f6-xl bb b--light-gray flex flex-wrap justify-between pv2\">`. Inside each of them there are two more: the first one has class `\"pr2\"` and contains a label (\"Phone\" (\"Telefon\"), \"WWW\", \"Street\" (\"Ulica\"), \"Zip code\" (\"Kod pocztowy\"), etc.), the second one has class `\"tr\"` and `\"grow-1\"` and contains information (phone number, website address, etc.).\n",
    "\n",
    "The parent of all rows is `<div class=\"ba b--light-gray pa3 pt0\">`. It should be find at first, then we will look for \"label-value\" lines in it. In the loop, we will look at each row and, based on the label, decide what to do with its value.\n",
    "\n",
    "We will treat the line with the e-mail address specially - we will click on its **Show** link and then download the content.\n",
    "\n",
    "\n",
    "## Organization data extraction\n",
    "\n",
    "I wrote the entire code inside a function that will receive the URL of the organization's website as an argument and return a dictionary with the data we want to know."
   ]
  },
  {
   "cell_type": "code",
   "execution_count": 5,
   "id": "british-vermont",
   "metadata": {},
   "outputs": [],
   "source": [
    "from selenium.webdriver import Firefox\n",
    "from selenium.common.exceptions import NoSuchElementException\n",
    "\n",
    "def get_organization_data(url):\n",
    "    data = {\n",
    "        'Name' : '',\n",
    "        'Adres email': '',\n",
    "        'Adresy www': [],\n",
    "        'Telefony': [],\n",
    "        'KRS': '',\n",
    "        'REGON': '',\n",
    "        'NIP': '',\n",
    "        'Rok powstania': '',\n",
    "    }\n",
    "\n",
    "#     browser = Firefox(executable_path='geckodriver') - taking it out from the function (later loop) speed up execution by 3 times\n",
    "    browser.get(url)\n",
    "    \n",
    "    table = browser.find_element(\"css selector\",'div.ba.b--light-gray.pa3.pt0')\n",
    "    rows = table.find_elements(\"css selector\",'div.f7-f6-xl')\n",
    "\n",
    "    # looking for each row in the table\n",
    "    for row in rows:\n",
    "        try:\n",
    "            # in each row we try to find the label and value\n",
    "            label = row.find_element(\"css selector\",'.pr2')\n",
    "            value = row.find_element(\"css selector\",'.tr.grow-1')\n",
    "        except NoSuchElementException:\n",
    "            # skipping lines where the label or value could not be found\n",
    "            # \"continue\" jumps to the beginning of the for loop, with the next row in the \"row\" variable\n",
    "            continue\n",
    "\n",
    "        # The unique line with email address\n",
    "        if label.text == 'E-mail':\n",
    "            try:\n",
    "                value.find_element(\"tag name\", 'span').click()\n",
    "                data['Adres email'] = value.text\n",
    "            except Exception:\n",
    "                continue\n",
    "\n",
    "        # Next lines - appending data to dictionary\n",
    "        elif label.text == 'Telefon':\n",
    "            data['Telefony'].append(value.text)\n",
    "\n",
    "        elif label.text == 'WWW':\n",
    "            data['Adresy www'].append(value.text)\n",
    "\n",
    "        elif label.text == 'KRS':\n",
    "            data['KRS'] = value.text\n",
    "\n",
    "        elif label.text == 'REGON':\n",
    "            data['REGON'] = value.text\n",
    "\n",
    "        elif label.text == 'NIP':\n",
    "            data['NIP'] = value.text\n",
    "\n",
    "        elif label.text == 'Rok powstania':\n",
    "            data['Rok powstania'] = value.text\n",
    "#     browser.quit()\n",
    "    return data\n",
    "    "
   ]
  },
  {
   "cell_type": "markdown",
   "id": "enabling-guarantee",
   "metadata": {},
   "source": [
    "## Generating a report\n",
    "\n",
    "Let's summarize: we have a `urls` variable with a list of foundation website addresses, and a `get_organization_data` function that can accept such an address and return a dictionary with data. We can now download the details of each of them in a loop and save the downloaded data in a CSV file.\n",
    "\n",
    "Podsumujmy: mamy zmienną `urls` z listą adresów stron fundacji, oraz funkcję `get_organization_data` która potrafi taki adres przyjąć i zwrócić słownik z danymi. Możemy zatem w pętli pobrać szczegóły każdej z nich i zapamiętać pobrane dane w pliku CSV."
   ]
  },
  {
   "cell_type": "code",
   "execution_count": 6,
   "id": "sapphire-england",
   "metadata": {},
   "outputs": [],
   "source": [
    "import csv\n",
    "\n",
    "with open(f'report.csv', 'w', newline='') as csvfile:\n",
    "    writer = csv.writer(csvfile)\n",
    "    writer.writerow([\n",
    "        'Adres email',\n",
    "        'Adresy www',\n",
    "        'Telefony',\n",
    "        'KRS',\n",
    "        'REGON',\n",
    "        'NIP',\n",
    "        'Rok powstania'])\n",
    "    browser = Firefox(executable_path='geckodriver')\n",
    "    for organization_url in urls[:len(organizations)]:\n",
    "        data = get_organization_data(organization_url)\n",
    "        writer.writerow([\n",
    "            data['Adres email'],\n",
    "            ' '.join(data['Adresy www']),\n",
    "            ', '.join(data['Telefony']),\n",
    "            data['KRS'],\n",
    "            data['REGON'],\n",
    "            data['NIP'],\n",
    "            data['Rok powstania'],\n",
    "        ])\n",
    "    browser.quit()\n"
   ]
  }
 ],
 "metadata": {
  "kernelspec": {
   "display_name": "Python 3 (ipykernel)",
   "language": "python",
   "name": "python3"
  },
  "language_info": {
   "codemirror_mode": {
    "name": "ipython",
    "version": 3
   },
   "file_extension": ".py",
   "mimetype": "text/x-python",
   "name": "python",
   "nbconvert_exporter": "python",
   "pygments_lexer": "ipython3",
   "version": "3.9.13"
  }
 },
 "nbformat": 4,
 "nbformat_minor": 5
}
